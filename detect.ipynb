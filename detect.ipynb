{
 "cells": [
  {
   "cell_type": "code",
   "execution_count": 1,
   "metadata": {
    "ExecuteTime": {
     "end_time": "2021-06-18T16:27:47.529653Z",
     "start_time": "2021-06-18T16:27:35.055688Z"
    }
   },
   "outputs": [],
   "source": [
    "import numpy as np\n",
    "import pandas as pd\n",
    "import cv2\n",
    "import matplotlib.pyplot as plt"
   ]
  },
  {
   "cell_type": "code",
   "execution_count": 2,
   "metadata": {
    "ExecuteTime": {
     "end_time": "2021-06-16T14:38:13.458185Z",
     "start_time": "2021-06-16T14:38:12.711149Z"
    }
   },
   "outputs": [],
   "source": [
    "sudoku = cv2.imread('data/sudoku_1.jpg')\n",
    "sudoku = cv2.resize(sudoku,(282,282))\n",
    "# plt.figure()\n",
    "# plt.imshow(sudoku)\n",
    "# plt.show()"
   ]
  },
  {
   "cell_type": "code",
   "execution_count": 3,
   "metadata": {
    "ExecuteTime": {
     "end_time": "2021-06-16T14:38:13.882016Z",
     "start_time": "2021-06-16T14:38:13.460145Z"
    }
   },
   "outputs": [],
   "source": [
    "gray = cv2.cvtColor(sudoku, cv2.COLOR_BGR2GRAY)\n",
    "blur = cv2.GaussianBlur(gray, (5,5), 1)\n",
    "thresh = cv2.adaptiveThreshold(blur, maxValue=255, adaptiveMethod=1, thresholdType=1, blockSize=11, C=2)"
   ]
  },
  {
   "cell_type": "code",
   "execution_count": 4,
   "metadata": {
    "ExecuteTime": {
     "end_time": "2021-06-16T14:38:13.968784Z",
     "start_time": "2021-06-16T14:38:13.885009Z"
    }
   },
   "outputs": [],
   "source": [
    "# plt.title('Gaussian Blur')\n",
    "# plt.imshow(blur)\n",
    "# plt.show()\n",
    "# plt.title('Adaptive Threshold')\n",
    "# plt.imshow(thresh)\n",
    "# plt.show()"
   ]
  },
  {
   "cell_type": "code",
   "execution_count": 5,
   "metadata": {
    "ExecuteTime": {
     "end_time": "2021-06-16T14:38:14.389660Z",
     "start_time": "2021-06-16T14:38:13.971780Z"
    }
   },
   "outputs": [],
   "source": [
    "sudoku_contour = sudoku.copy()\n",
    "contours = cv2.findContours(thresh, cv2.RETR_EXTERNAL, cv2.CHAIN_APPROX_SIMPLE)\n",
    "sudoku_contour = cv2.drawContours(sudoku_contour, contours[1], -1, (0, 255, 0), 3)\n"
   ]
  },
  {
   "cell_type": "code",
   "execution_count": null,
   "metadata": {
    "ExecuteTime": {
     "end_time": "2021-06-16T13:16:03.058803Z",
     "start_time": "2021-06-16T13:16:03.047833Z"
    },
    "scrolled": true
   },
   "outputs": [],
   "source": []
  },
  {
   "cell_type": "code",
   "execution_count": 6,
   "metadata": {
    "ExecuteTime": {
     "end_time": "2021-06-16T14:38:14.784606Z",
     "start_time": "2021-06-16T14:38:14.391657Z"
    }
   },
   "outputs": [],
   "source": [
    "# plt.title('Contours')\n",
    "# plt.imshow(sudoku_contour)\n",
    "# plt.show()"
   ]
  },
  {
   "cell_type": "code",
   "execution_count": 7,
   "metadata": {
    "ExecuteTime": {
     "end_time": "2021-06-16T14:38:16.557869Z",
     "start_time": "2021-06-16T14:38:14.788596Z"
    }
   },
   "outputs": [],
   "source": [
    "def bigContour(contours):\n",
    "    big = np.array([])\n",
    "    max_area = 0\n",
    "    for i in contours:\n",
    "        area = cv2.contourArea(i)\n",
    "        if area > 50: #if too small, will find noise\n",
    "            perimeter = cv2.arcLength(i, True)\n",
    "            approx = cv2.approxPolyDP(i, 0.02*perimeter, True)\n",
    "            if area > max_area and len(approx)==4: #checking of rect/square\n",
    "                big = approx\n",
    "                max_area = area\n",
    "    return big, max_area"
   ]
  },
  {
   "cell_type": "code",
   "execution_count": 8,
   "metadata": {
    "ExecuteTime": {
     "end_time": "2021-06-16T14:38:16.837128Z",
     "start_time": "2021-06-16T14:38:16.561858Z"
    }
   },
   "outputs": [],
   "source": [
    "# order of the 4 points should be the same always. reorder() ensures this\n",
    "def reorder(points):\n",
    "    points = points.reshape((4,2))\n",
    "    points_new = np.zeros((4,1,2), dtype=np.int32)\n",
    "    add = points.sum(1)\n",
    "    points_new[0] = points[np.argmin(add)]\n",
    "    points_new[3] =  points[np.argmax(add)]\n",
    "    diff = np.diff(points, axis=1)\n",
    "    points_new[1] = points[np.argmin(diff)]\n",
    "    points_new[2] = points[np.argmax(diff)]\n",
    "    return points_new"
   ]
  },
  {
   "cell_type": "code",
   "execution_count": 9,
   "metadata": {
    "ExecuteTime": {
     "end_time": "2021-06-16T14:38:17.560221Z",
     "start_time": "2021-06-16T14:38:16.840116Z"
    }
   },
   "outputs": [],
   "source": [
    "sudoku_big_contour = sudoku.copy()\n",
    "big, max_area = bigContour(contours[1])\n",
    "if big.size!=0:\n",
    "    big = reorder(big)\n",
    "    sudoku_big_contour = cv2.drawContours(sudoku_big_contour, big, -1, (255,255,0), 20) #draw the biggest contour\n",
    "    # preapres points for warp\n",
    "    pts1 = np.float32(big) \n",
    "    pts2 = np.float32([[0,0], [252,0], [0,252], [252, 252]])\n",
    "    matrix = cv2.getPerspectiveTransform(pts1, pts2)\n",
    "    warped_sudoku = cv2.warpPerspective(sudoku, matrix, (252, 252))\n",
    "    warped_sudoku = cv2.cvtColor(warped_sudoku, cv2.COLOR_RGB2GRAY)"
   ]
  },
  {
   "cell_type": "code",
   "execution_count": null,
   "metadata": {
    "ExecuteTime": {
     "start_time": "2021-06-16T14:37:56.460Z"
    }
   },
   "outputs": [],
   "source": [
    "cv2.imshow('warped', warped_sudoku)\n",
    "cv2.waitKey(0)"
   ]
  },
  {
   "cell_type": "code",
   "execution_count": null,
   "metadata": {
    "ExecuteTime": {
     "start_time": "2021-06-16T14:37:56.463Z"
    }
   },
   "outputs": [],
   "source": [
    "# plt.title('Big Contour')\n",
    "# plt.imshow(sudoku_big_contour)\n",
    "# plt.title('Warped')\n",
    "# plt.show()\n",
    "# plt.imshow(warped_sudoku)\n",
    "# plt.show()"
   ]
  },
  {
   "cell_type": "code",
   "execution_count": null,
   "metadata": {
    "ExecuteTime": {
     "start_time": "2021-06-16T14:37:56.465Z"
    }
   },
   "outputs": [],
   "source": [
    "def split_boxes(image):\n",
    "    rows = np.vsplit(image, 9)\n",
    "    boxes = []\n",
    "    for r in rows:\n",
    "        cols = np.hsplit(r, 9)\n",
    "        for box in cols:\n",
    "            boxes.append(box)\n",
    "    return boxes"
   ]
  },
  {
   "cell_type": "code",
   "execution_count": null,
   "metadata": {
    "ExecuteTime": {
     "start_time": "2021-06-16T14:37:56.469Z"
    },
    "scrolled": true
   },
   "outputs": [],
   "source": [
    "# detected = sudoku.copy()\n"
   ]
  },
  {
   "cell_type": "code",
   "execution_count": null,
   "metadata": {
    "ExecuteTime": {
     "start_time": "2021-06-16T14:37:56.472Z"
    }
   },
   "outputs": [],
   "source": [
    "warped_sudoku"
   ]
  },
  {
   "cell_type": "code",
   "execution_count": null,
   "metadata": {
    "ExecuteTime": {
     "start_time": "2021-06-16T14:37:56.475Z"
    }
   },
   "outputs": [],
   "source": [
    "for i,img in enumerate(warped_sudoku):\n",
    "    mean = np.mean(img)\n",
    "    std = np.std(img)\n",
    "    warped_sudoku[i] = (img-mean)/std\n",
    "      "
   ]
  },
  {
   "cell_type": "code",
   "execution_count": null,
   "metadata": {
    "ExecuteTime": {
     "start_time": "2021-06-16T14:37:56.477Z"
    }
   },
   "outputs": [],
   "source": [
    "boxes = split_boxes(warped_sudoku)\n",
    "for i in range(len(boxes)):\n",
    "    for j in range(len(boxes[i])):\n",
    "        boxes[i][j][0]=0\n",
    "        boxes[i][j][-1]=0"
   ]
  },
  {
   "cell_type": "code",
   "execution_count": null,
   "metadata": {
    "ExecuteTime": {
     "start_time": "2021-06-16T14:37:56.479Z"
    }
   },
   "outputs": [],
   "source": [
    "nums = np.array([1 if np.sum(boxes[i].flatten())/(255*81)>0.5 else 0 for i in range(len(boxes))])"
   ]
  },
  {
   "cell_type": "code",
   "execution_count": null,
   "metadata": {
    "ExecuteTime": {
     "start_time": "2021-06-16T14:37:56.481Z"
    }
   },
   "outputs": [],
   "source": [
    "nums"
   ]
  },
  {
   "cell_type": "code",
   "execution_count": null,
   "metadata": {
    "ExecuteTime": {
     "start_time": "2021-06-16T14:37:56.482Z"
    }
   },
   "outputs": [],
   "source": [
    "np.sum(boxes[1].flatten())/(255*81)"
   ]
  },
  {
   "cell_type": "code",
   "execution_count": null,
   "metadata": {
    "ExecuteTime": {
     "start_time": "2021-06-16T14:37:56.484Z"
    },
    "scrolled": true
   },
   "outputs": [],
   "source": [
    "plt.title('Sample')\n",
    "plt.imshow(warped_sudoku)\n",
    "plt.show()\n",
    "plt.title('Box')\n",
    "plt.imshow(boxes[4])\n",
    "plt.show()"
   ]
  },
  {
   "cell_type": "code",
   "execution_count": null,
   "metadata": {
    "ExecuteTime": {
     "start_time": "2021-06-16T14:37:56.533Z"
    }
   },
   "outputs": [],
   "source": [
    "np.shape(boxes)"
   ]
  },
  {
   "cell_type": "code",
   "execution_count": null,
   "metadata": {
    "ExecuteTime": {
     "start_time": "2021-06-16T14:37:56.546Z"
    }
   },
   "outputs": [],
   "source": [
    "# from tensorflow import keras\n",
    "from keras.models import load_model\n",
    "model = load_model('model.h5')\n",
    "boxes = np.reshape(boxes, (-1,28,28,1))\n",
    "predicted_numbers = model.predict_classes(boxes)"
   ]
  },
  {
   "cell_type": "code",
   "execution_count": null,
   "metadata": {
    "ExecuteTime": {
     "start_time": "2021-06-16T14:37:56.548Z"
    },
    "scrolled": false
   },
   "outputs": [],
   "source": [
    "print(np.reshape(predicted_numbers*np.array(nums),(9,9)))\n",
    "plt.show()\n",
    "plt.imshow(sudoku)\n",
    "plt.show()"
   ]
  },
  {
   "cell_type": "code",
   "execution_count": null,
   "metadata": {
    "ExecuteTime": {
     "start_time": "2021-06-16T14:37:56.551Z"
    }
   },
   "outputs": [],
   "source": [
    "np.argsort(model.predict(boxes)[4])"
   ]
  },
  {
   "cell_type": "code",
   "execution_count": null,
   "metadata": {
    "ExecuteTime": {
     "start_time": "2021-06-16T14:37:56.553Z"
    }
   },
   "outputs": [],
   "source": [
    "np.sort(model.predict(boxes)[4])"
   ]
  }
 ],
 "metadata": {
  "kernelspec": {
   "display_name": "Python 3",
   "language": "python",
   "name": "python3"
  },
  "language_info": {
   "codemirror_mode": {
    "name": "ipython",
    "version": 3
   },
   "file_extension": ".py",
   "mimetype": "text/x-python",
   "name": "python",
   "nbconvert_exporter": "python",
   "pygments_lexer": "ipython3",
   "version": "3.6.4"
  }
 },
 "nbformat": 4,
 "nbformat_minor": 2
}
