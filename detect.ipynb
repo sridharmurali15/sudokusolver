{
 "cells": [
  {
   "cell_type": "code",
<<<<<<< HEAD
   "execution_count": 1,
   "metadata": {
    "ExecuteTime": {
     "end_time": "2021-06-16T14:38:12.709150Z",
     "start_time": "2021-06-16T14:37:56.467547Z"
=======
   "execution_count": 50,
   "metadata": {
    "ExecuteTime": {
     "end_time": "2021-06-05T20:48:33.592427Z",
     "start_time": "2021-06-05T20:48:33.585448Z"
>>>>>>> 49ec600e4477372fe82ee5e36cdfa4b29afc7dc4
    }
   },
   "outputs": [],
   "source": [
    "import numpy as np\n",
    "import pandas as pd\n",
    "import cv2\n",
    "import matplotlib.pyplot as plt"
   ]
  },
  {
   "cell_type": "code",
<<<<<<< HEAD
   "execution_count": 2,
   "metadata": {
    "ExecuteTime": {
     "end_time": "2021-06-16T14:38:13.458185Z",
     "start_time": "2021-06-16T14:38:12.711149Z"
=======
   "execution_count": 51,
   "metadata": {
    "ExecuteTime": {
     "end_time": "2021-06-05T20:48:33.701997Z",
     "start_time": "2021-06-05T20:48:33.595419Z"
>>>>>>> 49ec600e4477372fe82ee5e36cdfa4b29afc7dc4
    }
   },
   "outputs": [],
   "source": [
    "sudoku = cv2.imread('data/sudoku_1.jpg')\n",
    "sudoku = cv2.resize(sudoku,(282,282))\n",
    "# plt.figure()\n",
    "# plt.imshow(sudoku)\n",
    "# plt.show()"
   ]
  },
  {
   "cell_type": "code",
<<<<<<< HEAD
   "execution_count": 3,
   "metadata": {
    "ExecuteTime": {
     "end_time": "2021-06-16T14:38:13.882016Z",
     "start_time": "2021-06-16T14:38:13.460145Z"
=======
   "execution_count": 52,
   "metadata": {
    "ExecuteTime": {
     "end_time": "2021-06-05T20:48:33.805707Z",
     "start_time": "2021-06-05T20:48:33.703994Z"
>>>>>>> 49ec600e4477372fe82ee5e36cdfa4b29afc7dc4
    }
   },
   "outputs": [],
   "source": [
    "gray = cv2.cvtColor(sudoku, cv2.COLOR_BGR2GRAY)\n",
    "blur = cv2.GaussianBlur(gray, (5,5), 1)\n",
    "thresh = cv2.adaptiveThreshold(blur, maxValue=255, adaptiveMethod=1, thresholdType=1, blockSize=11, C=2)"
   ]
  },
  {
   "cell_type": "code",
<<<<<<< HEAD
   "execution_count": 4,
   "metadata": {
    "ExecuteTime": {
     "end_time": "2021-06-16T14:38:13.968784Z",
     "start_time": "2021-06-16T14:38:13.885009Z"
=======
   "execution_count": 53,
   "metadata": {
    "ExecuteTime": {
     "end_time": "2021-06-05T20:48:33.887504Z",
     "start_time": "2021-06-05T20:48:33.813681Z"
>>>>>>> 49ec600e4477372fe82ee5e36cdfa4b29afc7dc4
    }
   },
   "outputs": [],
   "source": [
    "# plt.title('Gaussian Blur')\n",
    "# plt.imshow(blur)\n",
    "# plt.show()\n",
    "# plt.title('Adaptive Threshold')\n",
    "# plt.imshow(thresh)\n",
    "# plt.show()"
   ]
  },
  {
   "cell_type": "code",
<<<<<<< HEAD
   "execution_count": 5,
   "metadata": {
    "ExecuteTime": {
     "end_time": "2021-06-16T14:38:14.389660Z",
     "start_time": "2021-06-16T14:38:13.971780Z"
=======
   "execution_count": 54,
   "metadata": {
    "ExecuteTime": {
     "end_time": "2021-06-05T20:48:34.021658Z",
     "start_time": "2021-06-05T20:48:33.892492Z"
>>>>>>> 49ec600e4477372fe82ee5e36cdfa4b29afc7dc4
    }
   },
   "outputs": [],
   "source": [
    "sudoku_contour = sudoku.copy()\n",
    "contours = cv2.findContours(thresh, cv2.RETR_EXTERNAL, cv2.CHAIN_APPROX_SIMPLE)\n",
    "sudoku_contour = cv2.drawContours(sudoku_contour, contours[1], -1, (0, 255, 0), 3)\n"
   ]
  },
  {
   "cell_type": "code",
   "execution_count": null,
   "metadata": {
    "ExecuteTime": {
<<<<<<< HEAD
     "end_time": "2021-06-16T13:16:03.058803Z",
     "start_time": "2021-06-16T13:16:03.047833Z"
    },
    "scrolled": true
=======
     "end_time": "2021-06-05T20:49:41.505356Z",
     "start_time": "2021-06-05T20:49:41.497376Z"
    }
>>>>>>> 49ec600e4477372fe82ee5e36cdfa4b29afc7dc4
   },
   "outputs": [],
   "source": []
  },
  {
   "cell_type": "code",
<<<<<<< HEAD
   "execution_count": 6,
   "metadata": {
    "ExecuteTime": {
     "end_time": "2021-06-16T14:38:14.784606Z",
     "start_time": "2021-06-16T14:38:14.391657Z"
=======
   "execution_count": 55,
   "metadata": {
    "ExecuteTime": {
     "end_time": "2021-06-05T20:48:34.120214Z",
     "start_time": "2021-06-05T20:48:34.034619Z"
>>>>>>> 49ec600e4477372fe82ee5e36cdfa4b29afc7dc4
    }
   },
   "outputs": [],
   "source": [
    "# plt.title('Contours')\n",
    "# plt.imshow(sudoku_contour)\n",
    "# plt.show()"
   ]
  },
  {
   "cell_type": "code",
<<<<<<< HEAD
   "execution_count": 7,
   "metadata": {
    "ExecuteTime": {
     "end_time": "2021-06-16T14:38:16.557869Z",
     "start_time": "2021-06-16T14:38:14.788596Z"
=======
   "execution_count": 56,
   "metadata": {
    "ExecuteTime": {
     "end_time": "2021-06-05T20:48:34.244734Z",
     "start_time": "2021-06-05T20:48:34.130182Z"
>>>>>>> 49ec600e4477372fe82ee5e36cdfa4b29afc7dc4
    }
   },
   "outputs": [],
   "source": [
    "def bigContour(contours):\n",
    "    big = np.array([])\n",
    "    max_area = 0\n",
    "    for i in contours:\n",
    "        area = cv2.contourArea(i)\n",
    "        if area > 50: #if too small, will find noise\n",
    "            perimeter = cv2.arcLength(i, True)\n",
    "            approx = cv2.approxPolyDP(i, 0.02*perimeter, True)\n",
    "            if area > max_area and len(approx)==4: #checking of rect/square\n",
    "                big = approx\n",
    "                max_area = area\n",
    "    return big, max_area"
   ]
  },
  {
   "cell_type": "code",
<<<<<<< HEAD
   "execution_count": 8,
   "metadata": {
    "ExecuteTime": {
     "end_time": "2021-06-16T14:38:16.837128Z",
     "start_time": "2021-06-16T14:38:16.561858Z"
=======
   "execution_count": 57,
   "metadata": {
    "ExecuteTime": {
     "end_time": "2021-06-05T20:48:34.350269Z",
     "start_time": "2021-06-05T20:48:34.254708Z"
>>>>>>> 49ec600e4477372fe82ee5e36cdfa4b29afc7dc4
    }
   },
   "outputs": [],
   "source": [
    "# order of the 4 points should be the same always. reorder() ensures this\n",
    "def reorder(points):\n",
    "    points = points.reshape((4,2))\n",
    "    points_new = np.zeros((4,1,2), dtype=np.int32)\n",
    "    add = points.sum(1)\n",
    "    points_new[0] = points[np.argmin(add)]\n",
    "    points_new[3] =  points[np.argmax(add)]\n",
    "    diff = np.diff(points, axis=1)\n",
    "    points_new[1] = points[np.argmin(diff)]\n",
    "    points_new[2] = points[np.argmax(diff)]\n",
    "    return points_new"
   ]
  },
  {
   "cell_type": "code",
<<<<<<< HEAD
   "execution_count": 9,
   "metadata": {
    "ExecuteTime": {
     "end_time": "2021-06-16T14:38:17.560221Z",
     "start_time": "2021-06-16T14:38:16.840116Z"
=======
   "execution_count": 58,
   "metadata": {
    "ExecuteTime": {
     "end_time": "2021-06-05T20:48:34.548614Z",
     "start_time": "2021-06-05T20:48:34.358249Z"
>>>>>>> 49ec600e4477372fe82ee5e36cdfa4b29afc7dc4
    }
   },
   "outputs": [],
   "source": [
    "sudoku_big_contour = sudoku.copy()\n",
    "big, max_area = bigContour(contours[1])\n",
    "if big.size!=0:\n",
    "    big = reorder(big)\n",
    "    sudoku_big_contour = cv2.drawContours(sudoku_big_contour, big, -1, (255,255,0), 20) #draw the biggest contour\n",
    "    # preapres points for warp\n",
    "    pts1 = np.float32(big) \n",
    "    pts2 = np.float32([[0,0], [252,0], [0,252], [252, 252]])\n",
    "    matrix = cv2.getPerspectiveTransform(pts1, pts2)\n",
    "    warped_sudoku = cv2.warpPerspective(sudoku, matrix, (252, 252))\n",
    "    warped_sudoku = cv2.cvtColor(warped_sudoku, cv2.COLOR_RGB2GRAY)"
   ]
  },
  {
   "cell_type": "code",
<<<<<<< HEAD
   "execution_count": null,
   "metadata": {
    "ExecuteTime": {
     "start_time": "2021-06-16T14:37:56.460Z"
    }
   },
   "outputs": [],
   "source": [
    "cv2.imshow('warped', warped_sudoku)\n",
    "cv2.waitKey(0)"
   ]
  },
  {
   "cell_type": "code",
   "execution_count": null,
   "metadata": {
    "ExecuteTime": {
     "start_time": "2021-06-16T14:37:56.463Z"
    }
=======
   "execution_count": 59,
   "metadata": {
    "ExecuteTime": {
     "end_time": "2021-06-05T20:48:34.635783Z",
     "start_time": "2021-06-05T20:48:34.559575Z"
    },
    "scrolled": true
>>>>>>> 49ec600e4477372fe82ee5e36cdfa4b29afc7dc4
   },
   "outputs": [
    {
     "data": {
      "text/plain": [
       "(252, 252, 3)"
      ]
     },
     "execution_count": 59,
     "metadata": {},
     "output_type": "execute_result"
    }
   ],
   "source": [
    "np.shape(warped_sudoku)"
   ]
  },
  {
   "cell_type": "code",
   "execution_count": 60,
   "metadata": {
    "ExecuteTime": {
     "end_time": "2021-06-05T20:48:34.740267Z",
     "start_time": "2021-06-05T20:48:34.638775Z"
    }
   },
   "outputs": [],
   "source": [
    "# plt.title('Big Contour')\n",
    "# plt.imshow(sudoku_big_contour)\n",
    "# plt.title('Warped')\n",
    "# plt.show()\n",
    "# plt.imshow(warped_sudoku)\n",
    "# plt.show()"
   ]
  },
  {
   "cell_type": "code",
<<<<<<< HEAD
   "execution_count": null,
   "metadata": {
    "ExecuteTime": {
     "start_time": "2021-06-16T14:37:56.465Z"
=======
   "execution_count": 61,
   "metadata": {
    "ExecuteTime": {
     "end_time": "2021-06-05T20:48:34.908285Z",
     "start_time": "2021-06-05T20:48:34.743227Z"
>>>>>>> 49ec600e4477372fe82ee5e36cdfa4b29afc7dc4
    }
   },
   "outputs": [],
   "source": [
    "def split_boxes(image):\n",
    "    rows = np.vsplit(image, 9)\n",
    "    boxes = []\n",
    "    for r in rows:\n",
    "        cols = np.hsplit(r, 9)\n",
    "        for box in cols:\n",
    "            boxes.append(box)\n",
    "    return boxes"
   ]
  },
  {
   "cell_type": "code",
<<<<<<< HEAD
   "execution_count": null,
   "metadata": {
    "ExecuteTime": {
     "start_time": "2021-06-16T14:37:56.469Z"
=======
   "execution_count": 62,
   "metadata": {
    "ExecuteTime": {
     "end_time": "2021-06-05T20:48:35.031264Z",
     "start_time": "2021-06-05T20:48:34.917260Z"
>>>>>>> 49ec600e4477372fe82ee5e36cdfa4b29afc7dc4
    },
    "scrolled": true
   },
   "outputs": [],
   "source": [
    "# detected = sudoku.copy()\n"
   ]
  },
  {
   "cell_type": "code",
<<<<<<< HEAD
   "execution_count": null,
   "metadata": {
    "ExecuteTime": {
     "start_time": "2021-06-16T14:37:56.472Z"
    }
   },
   "outputs": [],
   "source": [
    "warped_sudoku"
   ]
  },
  {
   "cell_type": "code",
   "execution_count": null,
   "metadata": {
    "ExecuteTime": {
     "start_time": "2021-06-16T14:37:56.475Z"
=======
   "execution_count": 63,
   "metadata": {
    "ExecuteTime": {
     "end_time": "2021-06-05T20:48:37.931473Z",
     "start_time": "2021-06-05T20:48:37.924493Z"
    }
   },
   "outputs": [
    {
     "data": {
      "text/plain": [
       "array([[ 26,  18,   6, ...,   0,   4,  13],\n",
       "       [ 18,  59, 102, ..., 125, 109,  69],\n",
       "       [  6,  92, 176, ..., 219, 188, 110],\n",
       "       ...,\n",
       "       [  0, 106, 207, ..., 255, 219, 125],\n",
       "       [  7,  88, 169, ..., 207, 177, 104],\n",
       "       [ 18,  52,  88, ..., 106,  93,  59]], dtype=uint8)"
      ]
     },
     "execution_count": 63,
     "metadata": {},
     "output_type": "execute_result"
    }
   ],
   "source": [
    "warped_sudoku"
   ]
  },
  {
   "cell_type": "code",
   "execution_count": 47,
   "metadata": {
    "ExecuteTime": {
     "end_time": "2021-06-05T20:47:20.740663Z",
     "start_time": "2021-06-05T20:47:20.703764Z"
>>>>>>> 49ec600e4477372fe82ee5e36cdfa4b29afc7dc4
    }
   },
   "outputs": [],
   "source": [
    "for i,img in enumerate(warped_sudoku):\n",
    "    mean = np.mean(img)\n",
    "    std = np.std(img)\n",
    "    warped_sudoku[i] = (img-mean)/std\n",
    "      "
   ]
  },
  {
   "cell_type": "code",
<<<<<<< HEAD
   "execution_count": null,
   "metadata": {
    "ExecuteTime": {
     "start_time": "2021-06-16T14:37:56.477Z"
=======
   "execution_count": 49,
   "metadata": {
    "ExecuteTime": {
     "end_time": "2021-06-05T20:47:37.059133Z",
     "start_time": "2021-06-05T20:47:37.052160Z"
    }
   },
   "outputs": [
    {
     "data": {
      "text/plain": [
       "(252, 252)"
      ]
     },
     "execution_count": 49,
     "metadata": {},
     "output_type": "execute_result"
    }
   ],
   "source": [
    "(warped_sudoku)"
   ]
  },
  {
   "cell_type": "code",
   "execution_count": 15,
   "metadata": {
    "ExecuteTime": {
     "end_time": "2021-06-05T20:21:45.518212Z",
     "start_time": "2021-06-05T20:21:45.400748Z"
>>>>>>> 49ec600e4477372fe82ee5e36cdfa4b29afc7dc4
    }
   },
   "outputs": [],
   "source": [
    "boxes = split_boxes(warped_sudoku)\n",
    "for i in range(len(boxes)):\n",
    "    for j in range(len(boxes[i])):\n",
    "        boxes[i][j][0]=0\n",
    "        boxes[i][j][-1]=0"
   ]
  },
  {
   "cell_type": "code",
<<<<<<< HEAD
   "execution_count": null,
   "metadata": {
    "ExecuteTime": {
     "start_time": "2021-06-16T14:37:56.479Z"
=======
   "execution_count": 16,
   "metadata": {
    "ExecuteTime": {
     "end_time": "2021-06-05T20:21:45.583875Z",
     "start_time": "2021-06-05T20:21:45.527178Z"
>>>>>>> 49ec600e4477372fe82ee5e36cdfa4b29afc7dc4
    }
   },
   "outputs": [],
   "source": [
    "nums = np.array([1 if np.sum(boxes[i].flatten())/(255*81)>0.5 else 0 for i in range(len(boxes))])"
   ]
  },
  {
   "cell_type": "code",
<<<<<<< HEAD
   "execution_count": null,
   "metadata": {
    "ExecuteTime": {
     "start_time": "2021-06-16T14:37:56.481Z"
    }
   },
   "outputs": [],
   "source": [
    "nums"
   ]
  },
  {
   "cell_type": "code",
   "execution_count": null,
   "metadata": {
    "ExecuteTime": {
     "start_time": "2021-06-16T14:37:56.482Z"
=======
   "execution_count": 17,
   "metadata": {
    "ExecuteTime": {
     "end_time": "2021-06-05T20:21:45.658928Z",
     "start_time": "2021-06-05T20:21:45.586836Z"
    }
   },
   "outputs": [
    {
     "data": {
      "text/plain": [
       "0.07412248850157346"
      ]
     },
     "execution_count": 17,
     "metadata": {},
     "output_type": "execute_result"
>>>>>>> 49ec600e4477372fe82ee5e36cdfa4b29afc7dc4
    }
   },
   "outputs": [],
   "source": [
    "np.sum(boxes[1].flatten())/(255*81)"
   ]
  },
  {
   "cell_type": "code",
<<<<<<< HEAD
   "execution_count": null,
   "metadata": {
    "ExecuteTime": {
     "start_time": "2021-06-16T14:37:56.484Z"
=======
   "execution_count": 18,
   "metadata": {
    "ExecuteTime": {
     "end_time": "2021-06-05T20:21:45.970235Z",
     "start_time": "2021-06-05T20:21:45.662918Z"
>>>>>>> 49ec600e4477372fe82ee5e36cdfa4b29afc7dc4
    },
    "scrolled": true
   },
<<<<<<< HEAD
   "outputs": [],
=======
   "outputs": [
    {
     "data": {
      "image/png": "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\n",
      "text/plain": [
       "<matplotlib.figure.Figure at 0x10d77a7c320>"
      ]
     },
     "metadata": {
      "needs_background": "light"
     },
     "output_type": "display_data"
    },
    {
     "data": {
      "image/png": "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\n",
      "text/plain": [
       "<matplotlib.figure.Figure at 0x10d77aae1d0>"
      ]
     },
     "metadata": {
      "needs_background": "light"
     },
     "output_type": "display_data"
    }
   ],
>>>>>>> 49ec600e4477372fe82ee5e36cdfa4b29afc7dc4
   "source": [
    "plt.title('Sample')\n",
    "plt.imshow(warped_sudoku)\n",
    "plt.show()\n",
    "plt.title('Box')\n",
    "plt.imshow(boxes[4])\n",
    "plt.show()"
   ]
  },
  {
   "cell_type": "code",
<<<<<<< HEAD
   "execution_count": null,
   "metadata": {
    "ExecuteTime": {
     "start_time": "2021-06-16T14:37:56.533Z"
    }
   },
   "outputs": [],
=======
   "execution_count": 19,
   "metadata": {
    "ExecuteTime": {
     "end_time": "2021-06-05T20:21:45.981206Z",
     "start_time": "2021-06-05T20:21:45.973228Z"
    }
   },
   "outputs": [
    {
     "data": {
      "text/plain": [
       "(81, 28, 28)"
      ]
     },
     "execution_count": 19,
     "metadata": {},
     "output_type": "execute_result"
    }
   ],
>>>>>>> 49ec600e4477372fe82ee5e36cdfa4b29afc7dc4
   "source": [
    "np.shape(boxes)"
   ]
  },
  {
   "cell_type": "code",
<<<<<<< HEAD
   "execution_count": null,
   "metadata": {
    "ExecuteTime": {
     "start_time": "2021-06-16T14:37:56.546Z"
=======
   "execution_count": 20,
   "metadata": {
    "ExecuteTime": {
     "end_time": "2021-06-05T20:21:47.324831Z",
     "start_time": "2021-06-05T20:21:45.984198Z"
>>>>>>> 49ec600e4477372fe82ee5e36cdfa4b29afc7dc4
    }
   },
   "outputs": [
    {
     "name": "stderr",
     "output_type": "stream",
     "text": [
      "C:\\Users\\Admin\\Anaconda3\\lib\\site-packages\\tensorflow\\python\\framework\\dtypes.py:517: FutureWarning: Passing (type, 1) or '1type' as a synonym of type is deprecated; in a future version of numpy, it will be understood as (type, (1,)) / '(1,)type'.\n",
      "  _np_qint8 = np.dtype([(\"qint8\", np.int8, 1)])\n",
      "C:\\Users\\Admin\\Anaconda3\\lib\\site-packages\\tensorflow\\python\\framework\\dtypes.py:518: FutureWarning: Passing (type, 1) or '1type' as a synonym of type is deprecated; in a future version of numpy, it will be understood as (type, (1,)) / '(1,)type'.\n",
      "  _np_quint8 = np.dtype([(\"quint8\", np.uint8, 1)])\n",
      "C:\\Users\\Admin\\Anaconda3\\lib\\site-packages\\tensorflow\\python\\framework\\dtypes.py:519: FutureWarning: Passing (type, 1) or '1type' as a synonym of type is deprecated; in a future version of numpy, it will be understood as (type, (1,)) / '(1,)type'.\n",
      "  _np_qint16 = np.dtype([(\"qint16\", np.int16, 1)])\n",
      "C:\\Users\\Admin\\Anaconda3\\lib\\site-packages\\tensorflow\\python\\framework\\dtypes.py:520: FutureWarning: Passing (type, 1) or '1type' as a synonym of type is deprecated; in a future version of numpy, it will be understood as (type, (1,)) / '(1,)type'.\n",
      "  _np_quint16 = np.dtype([(\"quint16\", np.uint16, 1)])\n",
      "C:\\Users\\Admin\\Anaconda3\\lib\\site-packages\\tensorflow\\python\\framework\\dtypes.py:521: FutureWarning: Passing (type, 1) or '1type' as a synonym of type is deprecated; in a future version of numpy, it will be understood as (type, (1,)) / '(1,)type'.\n",
      "  _np_qint32 = np.dtype([(\"qint32\", np.int32, 1)])\n",
      "C:\\Users\\Admin\\Anaconda3\\lib\\site-packages\\tensorflow\\python\\framework\\dtypes.py:526: FutureWarning: Passing (type, 1) or '1type' as a synonym of type is deprecated; in a future version of numpy, it will be understood as (type, (1,)) / '(1,)type'.\n",
      "  np_resource = np.dtype([(\"resource\", np.ubyte, 1)])\n",
      "C:\\Users\\Admin\\Anaconda3\\lib\\site-packages\\h5py\\__init__.py:36: FutureWarning: Conversion of the second argument of issubdtype from `float` to `np.floating` is deprecated. In future, it will be treated as `np.float64 == np.dtype(float).type`.\n",
      "  from ._conv import register_converters as _register_converters\n"
     ]
    },
    {
     "ename": "KeyboardInterrupt",
     "evalue": "",
     "output_type": "error",
     "traceback": [
      "\u001b[1;31m---------------------------------------------------------------------------\u001b[0m",
      "\u001b[1;31mKeyboardInterrupt\u001b[0m                         Traceback (most recent call last)",
      "\u001b[1;32m<ipython-input-20-129deeba245d>\u001b[0m in \u001b[0;36m<module>\u001b[1;34m()\u001b[0m\n\u001b[1;32m----> 1\u001b[1;33m \u001b[1;32mfrom\u001b[0m \u001b[0mtensorflow\u001b[0m \u001b[1;32mimport\u001b[0m \u001b[0mkeras\u001b[0m\u001b[1;33m\u001b[0m\u001b[0m\n\u001b[0m\u001b[0;32m      2\u001b[0m \u001b[1;32mfrom\u001b[0m \u001b[0mkeras\u001b[0m\u001b[1;33m.\u001b[0m\u001b[0mmodels\u001b[0m \u001b[1;32mimport\u001b[0m \u001b[0mload_model\u001b[0m\u001b[1;33m\u001b[0m\u001b[0m\n\u001b[0;32m      3\u001b[0m \u001b[0mmodel\u001b[0m \u001b[1;33m=\u001b[0m \u001b[0mload_model\u001b[0m\u001b[1;33m(\u001b[0m\u001b[1;34m'model.h5'\u001b[0m\u001b[1;33m)\u001b[0m\u001b[1;33m\u001b[0m\u001b[0m\n\u001b[0;32m      4\u001b[0m \u001b[0mboxes\u001b[0m \u001b[1;33m=\u001b[0m \u001b[0mnp\u001b[0m\u001b[1;33m.\u001b[0m\u001b[0mreshape\u001b[0m\u001b[1;33m(\u001b[0m\u001b[0mboxes\u001b[0m\u001b[1;33m,\u001b[0m \u001b[1;33m(\u001b[0m\u001b[1;33m-\u001b[0m\u001b[1;36m1\u001b[0m\u001b[1;33m,\u001b[0m\u001b[1;36m28\u001b[0m\u001b[1;33m,\u001b[0m\u001b[1;36m28\u001b[0m\u001b[1;33m,\u001b[0m\u001b[1;36m1\u001b[0m\u001b[1;33m)\u001b[0m\u001b[1;33m)\u001b[0m\u001b[1;33m\u001b[0m\u001b[0m\n\u001b[0;32m      5\u001b[0m \u001b[0mpredicted_numbers\u001b[0m \u001b[1;33m=\u001b[0m \u001b[0mmodel\u001b[0m\u001b[1;33m.\u001b[0m\u001b[0mpredict_classes\u001b[0m\u001b[1;33m(\u001b[0m\u001b[0mboxes\u001b[0m\u001b[1;33m)\u001b[0m\u001b[1;33m\u001b[0m\u001b[0m\n",
      "\u001b[1;32m~\\Anaconda3\\lib\\site-packages\\tensorflow\\__init__.py\u001b[0m in \u001b[0;36m<module>\u001b[1;34m()\u001b[0m\n\u001b[0;32m     22\u001b[0m \u001b[1;33m\u001b[0m\u001b[0m\n\u001b[0;32m     23\u001b[0m \u001b[1;31m# pylint: disable=wildcard-import\u001b[0m\u001b[1;33m\u001b[0m\u001b[1;33m\u001b[0m\u001b[0m\n\u001b[1;32m---> 24\u001b[1;33m \u001b[1;32mfrom\u001b[0m \u001b[0mtensorflow\u001b[0m\u001b[1;33m.\u001b[0m\u001b[0mpython\u001b[0m \u001b[1;32mimport\u001b[0m \u001b[1;33m*\u001b[0m  \u001b[1;31m# pylint: disable=redefined-builtin\u001b[0m\u001b[1;33m\u001b[0m\u001b[0m\n\u001b[0m\u001b[0;32m     25\u001b[0m \u001b[1;31m# pylint: enable=wildcard-import\u001b[0m\u001b[1;33m\u001b[0m\u001b[1;33m\u001b[0m\u001b[0m\n\u001b[0;32m     26\u001b[0m \u001b[1;33m\u001b[0m\u001b[0m\n",
      "\u001b[1;32m~\\Anaconda3\\lib\\site-packages\\tensorflow\\python\\__init__.py\u001b[0m in \u001b[0;36m<module>\u001b[1;34m()\u001b[0m\n\u001b[0;32m     79\u001b[0m \u001b[1;31m# Bring in subpackages.\u001b[0m\u001b[1;33m\u001b[0m\u001b[1;33m\u001b[0m\u001b[0m\n\u001b[0;32m     80\u001b[0m \u001b[1;32mfrom\u001b[0m \u001b[0mtensorflow\u001b[0m\u001b[1;33m.\u001b[0m\u001b[0mpython\u001b[0m \u001b[1;32mimport\u001b[0m \u001b[0mdata\u001b[0m\u001b[1;33m\u001b[0m\u001b[0m\n\u001b[1;32m---> 81\u001b[1;33m \u001b[1;32mfrom\u001b[0m \u001b[0mtensorflow\u001b[0m\u001b[1;33m.\u001b[0m\u001b[0mpython\u001b[0m \u001b[1;32mimport\u001b[0m \u001b[0mkeras\u001b[0m\u001b[1;33m\u001b[0m\u001b[0m\n\u001b[0m\u001b[0;32m     82\u001b[0m \u001b[1;32mfrom\u001b[0m \u001b[0mtensorflow\u001b[0m\u001b[1;33m.\u001b[0m\u001b[0mpython\u001b[0m\u001b[1;33m.\u001b[0m\u001b[0mestimator\u001b[0m \u001b[1;32mimport\u001b[0m \u001b[0mestimator_lib\u001b[0m \u001b[1;32mas\u001b[0m \u001b[0mestimator\u001b[0m\u001b[1;33m\u001b[0m\u001b[0m\n\u001b[0;32m     83\u001b[0m \u001b[1;32mfrom\u001b[0m \u001b[0mtensorflow\u001b[0m\u001b[1;33m.\u001b[0m\u001b[0mpython\u001b[0m\u001b[1;33m.\u001b[0m\u001b[0mfeature_column\u001b[0m \u001b[1;32mimport\u001b[0m \u001b[0mfeature_column_lib\u001b[0m \u001b[1;32mas\u001b[0m \u001b[0mfeature_column\u001b[0m\u001b[1;33m\u001b[0m\u001b[0m\n",
      "\u001b[1;32m~\\Anaconda3\\lib\\site-packages\\tensorflow\\python\\keras\\__init__.py\u001b[0m in \u001b[0;36m<module>\u001b[1;34m()\u001b[0m\n\u001b[0;32m     24\u001b[0m \u001b[1;33m\u001b[0m\u001b[0m\n\u001b[0;32m     25\u001b[0m \u001b[1;31m# pylint: disable=wildcard-import\u001b[0m\u001b[1;33m\u001b[0m\u001b[1;33m\u001b[0m\u001b[0m\n\u001b[1;32m---> 26\u001b[1;33m \u001b[1;32mfrom\u001b[0m \u001b[0mtensorflow\u001b[0m\u001b[1;33m.\u001b[0m\u001b[0mpython\u001b[0m\u001b[1;33m.\u001b[0m\u001b[0mkeras\u001b[0m \u001b[1;32mimport\u001b[0m \u001b[0mactivations\u001b[0m\u001b[1;33m\u001b[0m\u001b[0m\n\u001b[0m\u001b[0;32m     27\u001b[0m \u001b[1;32mfrom\u001b[0m \u001b[0mtensorflow\u001b[0m\u001b[1;33m.\u001b[0m\u001b[0mpython\u001b[0m\u001b[1;33m.\u001b[0m\u001b[0mkeras\u001b[0m \u001b[1;32mimport\u001b[0m \u001b[0mapplications\u001b[0m\u001b[1;33m\u001b[0m\u001b[0m\n\u001b[0;32m     28\u001b[0m \u001b[1;32mfrom\u001b[0m \u001b[0mtensorflow\u001b[0m\u001b[1;33m.\u001b[0m\u001b[0mpython\u001b[0m\u001b[1;33m.\u001b[0m\u001b[0mkeras\u001b[0m \u001b[1;32mimport\u001b[0m \u001b[0mbackend\u001b[0m\u001b[1;33m\u001b[0m\u001b[0m\n",
      "\u001b[1;32m~\\Anaconda3\\lib\\site-packages\\tensorflow\\python\\keras\\activations\\__init__.py\u001b[0m in \u001b[0;36m<module>\u001b[1;34m()\u001b[0m\n\u001b[0;32m     20\u001b[0m \u001b[1;33m\u001b[0m\u001b[0m\n\u001b[0;32m     21\u001b[0m \u001b[1;31m# Activation functions.\u001b[0m\u001b[1;33m\u001b[0m\u001b[1;33m\u001b[0m\u001b[0m\n\u001b[1;32m---> 22\u001b[1;33m \u001b[1;32mfrom\u001b[0m \u001b[0mtensorflow\u001b[0m\u001b[1;33m.\u001b[0m\u001b[0mpython\u001b[0m\u001b[1;33m.\u001b[0m\u001b[0mkeras\u001b[0m\u001b[1;33m.\u001b[0m\u001b[0m_impl\u001b[0m\u001b[1;33m.\u001b[0m\u001b[0mkeras\u001b[0m\u001b[1;33m.\u001b[0m\u001b[0mactivations\u001b[0m \u001b[1;32mimport\u001b[0m \u001b[0melu\u001b[0m\u001b[1;33m\u001b[0m\u001b[0m\n\u001b[0m\u001b[0;32m     23\u001b[0m \u001b[1;32mfrom\u001b[0m \u001b[0mtensorflow\u001b[0m\u001b[1;33m.\u001b[0m\u001b[0mpython\u001b[0m\u001b[1;33m.\u001b[0m\u001b[0mkeras\u001b[0m\u001b[1;33m.\u001b[0m\u001b[0m_impl\u001b[0m\u001b[1;33m.\u001b[0m\u001b[0mkeras\u001b[0m\u001b[1;33m.\u001b[0m\u001b[0mactivations\u001b[0m \u001b[1;32mimport\u001b[0m \u001b[0mhard_sigmoid\u001b[0m\u001b[1;33m\u001b[0m\u001b[0m\n\u001b[0;32m     24\u001b[0m \u001b[1;32mfrom\u001b[0m \u001b[0mtensorflow\u001b[0m\u001b[1;33m.\u001b[0m\u001b[0mpython\u001b[0m\u001b[1;33m.\u001b[0m\u001b[0mkeras\u001b[0m\u001b[1;33m.\u001b[0m\u001b[0m_impl\u001b[0m\u001b[1;33m.\u001b[0m\u001b[0mkeras\u001b[0m\u001b[1;33m.\u001b[0m\u001b[0mactivations\u001b[0m \u001b[1;32mimport\u001b[0m \u001b[0mlinear\u001b[0m\u001b[1;33m\u001b[0m\u001b[0m\n",
      "\u001b[1;32m~\\Anaconda3\\lib\\site-packages\\tensorflow\\python\\keras\\_impl\\keras\\__init__.py\u001b[0m in \u001b[0;36m<module>\u001b[1;34m()\u001b[0m\n\u001b[0;32m     19\u001b[0m \u001b[1;32mfrom\u001b[0m \u001b[0m__future__\u001b[0m \u001b[1;32mimport\u001b[0m \u001b[0mprint_function\u001b[0m\u001b[1;33m\u001b[0m\u001b[0m\n\u001b[0;32m     20\u001b[0m \u001b[1;33m\u001b[0m\u001b[0m\n\u001b[1;32m---> 21\u001b[1;33m \u001b[1;32mfrom\u001b[0m \u001b[0mtensorflow\u001b[0m\u001b[1;33m.\u001b[0m\u001b[0mpython\u001b[0m\u001b[1;33m.\u001b[0m\u001b[0mkeras\u001b[0m\u001b[1;33m.\u001b[0m\u001b[0m_impl\u001b[0m\u001b[1;33m.\u001b[0m\u001b[0mkeras\u001b[0m \u001b[1;32mimport\u001b[0m \u001b[0mactivations\u001b[0m\u001b[1;33m\u001b[0m\u001b[0m\n\u001b[0m\u001b[0;32m     22\u001b[0m \u001b[1;32mfrom\u001b[0m \u001b[0mtensorflow\u001b[0m\u001b[1;33m.\u001b[0m\u001b[0mpython\u001b[0m\u001b[1;33m.\u001b[0m\u001b[0mkeras\u001b[0m\u001b[1;33m.\u001b[0m\u001b[0m_impl\u001b[0m\u001b[1;33m.\u001b[0m\u001b[0mkeras\u001b[0m \u001b[1;32mimport\u001b[0m \u001b[0mapplications\u001b[0m\u001b[1;33m\u001b[0m\u001b[0m\n\u001b[0;32m     23\u001b[0m \u001b[1;32mfrom\u001b[0m \u001b[0mtensorflow\u001b[0m\u001b[1;33m.\u001b[0m\u001b[0mpython\u001b[0m\u001b[1;33m.\u001b[0m\u001b[0mkeras\u001b[0m\u001b[1;33m.\u001b[0m\u001b[0m_impl\u001b[0m\u001b[1;33m.\u001b[0m\u001b[0mkeras\u001b[0m \u001b[1;32mimport\u001b[0m \u001b[0mbackend\u001b[0m\u001b[1;33m\u001b[0m\u001b[0m\n",
      "\u001b[1;32m~\\Anaconda3\\lib\\site-packages\\tensorflow\\python\\keras\\_impl\\keras\\activations.py\u001b[0m in \u001b[0;36m<module>\u001b[1;34m()\u001b[0m\n\u001b[0;32m     22\u001b[0m \u001b[1;33m\u001b[0m\u001b[0m\n\u001b[0;32m     23\u001b[0m \u001b[1;32mfrom\u001b[0m \u001b[0mtensorflow\u001b[0m\u001b[1;33m.\u001b[0m\u001b[0mpython\u001b[0m\u001b[1;33m.\u001b[0m\u001b[0mkeras\u001b[0m\u001b[1;33m.\u001b[0m\u001b[0m_impl\u001b[0m\u001b[1;33m.\u001b[0m\u001b[0mkeras\u001b[0m \u001b[1;32mimport\u001b[0m \u001b[0mbackend\u001b[0m \u001b[1;32mas\u001b[0m \u001b[0mK\u001b[0m\u001b[1;33m\u001b[0m\u001b[0m\n\u001b[1;32m---> 24\u001b[1;33m \u001b[1;32mfrom\u001b[0m \u001b[0mtensorflow\u001b[0m\u001b[1;33m.\u001b[0m\u001b[0mpython\u001b[0m\u001b[1;33m.\u001b[0m\u001b[0mkeras\u001b[0m\u001b[1;33m.\u001b[0m\u001b[0m_impl\u001b[0m\u001b[1;33m.\u001b[0m\u001b[0mkeras\u001b[0m\u001b[1;33m.\u001b[0m\u001b[0mutils\u001b[0m\u001b[1;33m.\u001b[0m\u001b[0mgeneric_utils\u001b[0m \u001b[1;32mimport\u001b[0m \u001b[0mdeserialize_keras_object\u001b[0m\u001b[1;33m\u001b[0m\u001b[0m\n\u001b[0m\u001b[0;32m     25\u001b[0m \u001b[1;32mfrom\u001b[0m \u001b[0mtensorflow\u001b[0m\u001b[1;33m.\u001b[0m\u001b[0mpython\u001b[0m\u001b[1;33m.\u001b[0m\u001b[0mlayers\u001b[0m\u001b[1;33m.\u001b[0m\u001b[0mbase\u001b[0m \u001b[1;32mimport\u001b[0m \u001b[0mLayer\u001b[0m\u001b[1;33m\u001b[0m\u001b[0m\n\u001b[0;32m     26\u001b[0m \u001b[1;32mfrom\u001b[0m \u001b[0mtensorflow\u001b[0m\u001b[1;33m.\u001b[0m\u001b[0mpython\u001b[0m\u001b[1;33m.\u001b[0m\u001b[0mplatform\u001b[0m \u001b[1;32mimport\u001b[0m \u001b[0mtf_logging\u001b[0m \u001b[1;32mas\u001b[0m \u001b[0mlogging\u001b[0m\u001b[1;33m\u001b[0m\u001b[0m\n",
      "\u001b[1;32m~\\Anaconda3\\lib\\site-packages\\tensorflow\\python\\keras\\_impl\\keras\\utils\\__init__.py\u001b[0m in \u001b[0;36m<module>\u001b[1;34m()\u001b[0m\n\u001b[0;32m     29\u001b[0m \u001b[1;32mfrom\u001b[0m \u001b[0mtensorflow\u001b[0m\u001b[1;33m.\u001b[0m\u001b[0mpython\u001b[0m\u001b[1;33m.\u001b[0m\u001b[0mkeras\u001b[0m\u001b[1;33m.\u001b[0m\u001b[0m_impl\u001b[0m\u001b[1;33m.\u001b[0m\u001b[0mkeras\u001b[0m\u001b[1;33m.\u001b[0m\u001b[0mutils\u001b[0m\u001b[1;33m.\u001b[0m\u001b[0mgeneric_utils\u001b[0m \u001b[1;32mimport\u001b[0m \u001b[0mProgbar\u001b[0m\u001b[1;33m\u001b[0m\u001b[0m\n\u001b[0;32m     30\u001b[0m \u001b[1;32mfrom\u001b[0m \u001b[0mtensorflow\u001b[0m\u001b[1;33m.\u001b[0m\u001b[0mpython\u001b[0m\u001b[1;33m.\u001b[0m\u001b[0mkeras\u001b[0m\u001b[1;33m.\u001b[0m\u001b[0m_impl\u001b[0m\u001b[1;33m.\u001b[0m\u001b[0mkeras\u001b[0m\u001b[1;33m.\u001b[0m\u001b[0mutils\u001b[0m\u001b[1;33m.\u001b[0m\u001b[0mgeneric_utils\u001b[0m \u001b[1;32mimport\u001b[0m \u001b[0mserialize_keras_object\u001b[0m\u001b[1;33m\u001b[0m\u001b[0m\n\u001b[1;32m---> 31\u001b[1;33m \u001b[1;32mfrom\u001b[0m \u001b[0mtensorflow\u001b[0m\u001b[1;33m.\u001b[0m\u001b[0mpython\u001b[0m\u001b[1;33m.\u001b[0m\u001b[0mkeras\u001b[0m\u001b[1;33m.\u001b[0m\u001b[0m_impl\u001b[0m\u001b[1;33m.\u001b[0m\u001b[0mkeras\u001b[0m\u001b[1;33m.\u001b[0m\u001b[0mutils\u001b[0m\u001b[1;33m.\u001b[0m\u001b[0mio_utils\u001b[0m \u001b[1;32mimport\u001b[0m \u001b[0mHDF5Matrix\u001b[0m\u001b[1;33m\u001b[0m\u001b[0m\n\u001b[0m\u001b[0;32m     32\u001b[0m \u001b[1;32mfrom\u001b[0m \u001b[0mtensorflow\u001b[0m\u001b[1;33m.\u001b[0m\u001b[0mpython\u001b[0m\u001b[1;33m.\u001b[0m\u001b[0mkeras\u001b[0m\u001b[1;33m.\u001b[0m\u001b[0m_impl\u001b[0m\u001b[1;33m.\u001b[0m\u001b[0mkeras\u001b[0m\u001b[1;33m.\u001b[0m\u001b[0mutils\u001b[0m\u001b[1;33m.\u001b[0m\u001b[0mlayer_utils\u001b[0m \u001b[1;32mimport\u001b[0m \u001b[0mconvert_all_kernels_in_model\u001b[0m\u001b[1;33m\u001b[0m\u001b[0m\n\u001b[0;32m     33\u001b[0m \u001b[1;32mfrom\u001b[0m \u001b[0mtensorflow\u001b[0m\u001b[1;33m.\u001b[0m\u001b[0mpython\u001b[0m\u001b[1;33m.\u001b[0m\u001b[0mkeras\u001b[0m\u001b[1;33m.\u001b[0m\u001b[0m_impl\u001b[0m\u001b[1;33m.\u001b[0m\u001b[0mkeras\u001b[0m\u001b[1;33m.\u001b[0m\u001b[0mutils\u001b[0m\u001b[1;33m.\u001b[0m\u001b[0mlayer_utils\u001b[0m \u001b[1;32mimport\u001b[0m \u001b[0mprint_summary\u001b[0m\u001b[1;33m\u001b[0m\u001b[0m\n",
      "\u001b[1;32m~\\Anaconda3\\lib\\site-packages\\tensorflow\\python\\keras\\_impl\\keras\\utils\\io_utils.py\u001b[0m in \u001b[0;36m<module>\u001b[1;34m()\u001b[0m\n\u001b[0;32m     27\u001b[0m \u001b[1;33m\u001b[0m\u001b[0m\n\u001b[0;32m     28\u001b[0m \u001b[1;32mtry\u001b[0m\u001b[1;33m:\u001b[0m\u001b[1;33m\u001b[0m\u001b[0m\n\u001b[1;32m---> 29\u001b[1;33m   \u001b[1;32mimport\u001b[0m \u001b[0mh5py\u001b[0m\u001b[1;33m\u001b[0m\u001b[0m\n\u001b[0m\u001b[0;32m     30\u001b[0m \u001b[1;32mexcept\u001b[0m \u001b[0mImportError\u001b[0m\u001b[1;33m:\u001b[0m\u001b[1;33m\u001b[0m\u001b[0m\n\u001b[0;32m     31\u001b[0m   \u001b[0mh5py\u001b[0m \u001b[1;33m=\u001b[0m \u001b[1;32mNone\u001b[0m\u001b[1;33m\u001b[0m\u001b[0m\n",
      "\u001b[1;32m~\\Anaconda3\\lib\\site-packages\\h5py\\__init__.py\u001b[0m in \u001b[0;36m<module>\u001b[1;34m()\u001b[0m\n\u001b[0;32m     46\u001b[0m \u001b[1;33m\u001b[0m\u001b[0m\n\u001b[0;32m     47\u001b[0m \u001b[1;32mfrom\u001b[0m \u001b[1;33m.\u001b[0m\u001b[0m_hl\u001b[0m \u001b[1;32mimport\u001b[0m \u001b[0mfilters\u001b[0m\u001b[1;33m\u001b[0m\u001b[0m\n\u001b[1;32m---> 48\u001b[1;33m \u001b[1;32mfrom\u001b[0m \u001b[1;33m.\u001b[0m\u001b[0m_hl\u001b[0m\u001b[1;33m.\u001b[0m\u001b[0mbase\u001b[0m \u001b[1;32mimport\u001b[0m \u001b[0mis_hdf5\u001b[0m\u001b[1;33m,\u001b[0m \u001b[0mHLObject\u001b[0m\u001b[1;33m,\u001b[0m \u001b[0mEmpty\u001b[0m\u001b[1;33m\u001b[0m\u001b[0m\n\u001b[0m\u001b[0;32m     49\u001b[0m \u001b[1;32mfrom\u001b[0m \u001b[1;33m.\u001b[0m\u001b[0m_hl\u001b[0m\u001b[1;33m.\u001b[0m\u001b[0mfiles\u001b[0m \u001b[1;32mimport\u001b[0m \u001b[0mFile\u001b[0m\u001b[1;33m\u001b[0m\u001b[0m\n\u001b[0;32m     50\u001b[0m \u001b[1;32mfrom\u001b[0m \u001b[1;33m.\u001b[0m\u001b[0m_hl\u001b[0m\u001b[1;33m.\u001b[0m\u001b[0mgroup\u001b[0m \u001b[1;32mimport\u001b[0m \u001b[0mGroup\u001b[0m\u001b[1;33m,\u001b[0m \u001b[0mSoftLink\u001b[0m\u001b[1;33m,\u001b[0m \u001b[0mExternalLink\u001b[0m\u001b[1;33m,\u001b[0m \u001b[0mHardLink\u001b[0m\u001b[1;33m\u001b[0m\u001b[0m\n",
      "\u001b[1;32m~\\Anaconda3\\lib\\site-packages\\h5py\\_hl\\base.py\u001b[0m in \u001b[0;36m<module>\u001b[1;34m()\u001b[0m\n\u001b[0;32m    203\u001b[0m \u001b[1;33m\u001b[0m\u001b[0m\n\u001b[0;32m    204\u001b[0m \u001b[1;33m\u001b[0m\u001b[0m\n\u001b[1;32m--> 205\u001b[1;33m \u001b[1;32mclass\u001b[0m \u001b[0mHLObject\u001b[0m\u001b[1;33m(\u001b[0m\u001b[0mCommonStateObject\u001b[0m\u001b[1;33m)\u001b[0m\u001b[1;33m:\u001b[0m\u001b[1;33m\u001b[0m\u001b[0m\n\u001b[0m\u001b[0;32m    206\u001b[0m \u001b[1;33m\u001b[0m\u001b[0m\n\u001b[0;32m    207\u001b[0m     \"\"\"\n",
      "\u001b[1;32m~\\Anaconda3\\lib\\site-packages\\h5py\\_hl\\base.py\u001b[0m in \u001b[0;36mHLObject\u001b[1;34m()\u001b[0m\n\u001b[0;32m    217\u001b[0m \u001b[1;33m\u001b[0m\u001b[0m\n\u001b[0;32m    218\u001b[0m     \u001b[1;33m@\u001b[0m\u001b[0mproperty\u001b[0m\u001b[1;33m\u001b[0m\u001b[0m\n\u001b[1;32m--> 219\u001b[1;33m     \u001b[1;33m@\u001b[0m\u001b[0mwith_phil\u001b[0m\u001b[1;33m\u001b[0m\u001b[0m\n\u001b[0m\u001b[0;32m    220\u001b[0m     \u001b[1;32mdef\u001b[0m \u001b[0mname\u001b[0m\u001b[1;33m(\u001b[0m\u001b[0mself\u001b[0m\u001b[1;33m)\u001b[0m\u001b[1;33m:\u001b[0m\u001b[1;33m\u001b[0m\u001b[0m\n\u001b[0;32m    221\u001b[0m         \u001b[1;34m\"\"\" Return the full name of this object.  None if anonymous. \"\"\"\u001b[0m\u001b[1;33m\u001b[0m\u001b[0m\n",
      "\u001b[1;32mh5py\\_objects.pyx\u001b[0m in \u001b[0;36mh5py._objects.with_phil\u001b[1;34m()\u001b[0m\n",
      "\u001b[1;32m~\\Anaconda3\\lib\\importlib\\_bootstrap.py\u001b[0m in \u001b[0;36m_find_and_load\u001b[1;34m(name, import_)\u001b[0m\n",
      "\u001b[1;32m~\\Anaconda3\\lib\\importlib\\_bootstrap.py\u001b[0m in \u001b[0;36m_find_and_load_unlocked\u001b[1;34m(name, import_)\u001b[0m\n",
      "\u001b[1;32m~\\Anaconda3\\lib\\importlib\\_bootstrap.py\u001b[0m in \u001b[0;36m_find_spec\u001b[1;34m(name, path, target)\u001b[0m\n",
      "\u001b[1;32m~\\Anaconda3\\lib\\importlib\\_bootstrap_external.py\u001b[0m in \u001b[0;36mfind_spec\u001b[1;34m(cls, fullname, path, target)\u001b[0m\n",
      "\u001b[1;32m~\\Anaconda3\\lib\\importlib\\_bootstrap_external.py\u001b[0m in \u001b[0;36m_get_spec\u001b[1;34m(cls, fullname, path, target)\u001b[0m\n",
      "\u001b[1;32m~\\Anaconda3\\lib\\importlib\\_bootstrap_external.py\u001b[0m in \u001b[0;36mfind_spec\u001b[1;34m(self, fullname, target)\u001b[0m\n",
      "\u001b[1;32m~\\Anaconda3\\lib\\importlib\\_bootstrap_external.py\u001b[0m in \u001b[0;36m_path_stat\u001b[1;34m(path)\u001b[0m\n",
      "\u001b[1;31mKeyboardInterrupt\u001b[0m: "
     ]
    }
   ],
   "source": [
    "# from tensorflow import keras\n",
    "from keras.models import load_model\n",
    "model = load_model('model.h5')\n",
    "boxes = np.reshape(boxes, (-1,28,28,1))\n",
    "predicted_numbers = model.predict_classes(boxes)"
   ]
  },
  {
   "cell_type": "code",
   "execution_count": null,
   "metadata": {
    "ExecuteTime": {
<<<<<<< HEAD
     "start_time": "2021-06-16T14:37:56.548Z"
=======
     "end_time": "2021-06-05T20:21:47.328821Z",
     "start_time": "2021-06-05T20:21:42.978Z"
>>>>>>> 49ec600e4477372fe82ee5e36cdfa4b29afc7dc4
    },
    "scrolled": false
   },
   "outputs": [],
   "source": [
    "print(np.reshape(predicted_numbers*np.array(nums),(9,9)))\n",
    "plt.show()\n",
    "plt.imshow(sudoku)\n",
    "plt.show()"
   ]
  },
  {
   "cell_type": "code",
   "execution_count": null,
   "metadata": {
    "ExecuteTime": {
<<<<<<< HEAD
     "start_time": "2021-06-16T14:37:56.551Z"
    }
   },
   "outputs": [],
   "source": [
    "np.argsort(model.predict(boxes)[4])"
   ]
  },
  {
   "cell_type": "code",
   "execution_count": null,
   "metadata": {
    "ExecuteTime": {
     "start_time": "2021-06-16T14:37:56.553Z"
=======
     "end_time": "2021-06-03T23:10:10.808567Z",
     "start_time": "2021-06-03T23:10:10.722796Z"
>>>>>>> 49ec600e4477372fe82ee5e36cdfa4b29afc7dc4
    }
   },
   "outputs": [],
   "source": [
    "np.sort(model.predict(boxes)[4])"
   ]
  }
 ],
 "metadata": {
  "kernelspec": {
   "display_name": "Python 3",
   "language": "python",
   "name": "python3"
  },
  "language_info": {
   "codemirror_mode": {
    "name": "ipython",
    "version": 3
   },
   "file_extension": ".py",
   "mimetype": "text/x-python",
   "name": "python",
   "nbconvert_exporter": "python",
   "pygments_lexer": "ipython3",
   "version": "3.6.4"
  }
 },
 "nbformat": 4,
 "nbformat_minor": 2
}
