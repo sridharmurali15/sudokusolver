{
 "cells": [
  {
   "cell_type": "code",
   "execution_count": 78,
   "metadata": {
    "ExecuteTime": {
     "end_time": "2021-06-07T14:03:01.915166Z",
     "start_time": "2021-06-07T14:03:01.910178Z"
    }
   },
   "outputs": [],
   "source": [
    "import numpy as np\n",
    "import pandas as pd\n",
    "import cv2\n",
    "import matplotlib.pyplot as plt"
   ]
  },
  {
   "cell_type": "code",
   "execution_count": 79,
   "metadata": {
    "ExecuteTime": {
     "end_time": "2021-06-07T14:03:01.995977Z",
     "start_time": "2021-06-07T14:03:01.918159Z"
    }
   },
   "outputs": [],
   "source": [
    "sudoku = cv2.imread('data/sudoku_1.jpg')\n",
    "sudoku = cv2.resize(sudoku,(282,282))\n",
    "# plt.figure()\n",
    "# plt.imshow(sudoku)\n",
    "# plt.show()"
   ]
  },
  {
   "cell_type": "code",
   "execution_count": 80,
   "metadata": {
    "ExecuteTime": {
     "end_time": "2021-06-07T14:03:02.117498Z",
     "start_time": "2021-06-07T14:03:01.997974Z"
    }
   },
   "outputs": [],
   "source": [
    "gray = cv2.cvtColor(sudoku, cv2.COLOR_BGR2GRAY)\n",
    "blur = cv2.GaussianBlur(gray, (5,5), 1)\n",
    "thresh = cv2.adaptiveThreshold(blur, maxValue=255, adaptiveMethod=1, thresholdType=1, blockSize=11, C=2)"
   ]
  },
  {
   "cell_type": "code",
   "execution_count": 81,
   "metadata": {
    "ExecuteTime": {
     "end_time": "2021-06-07T14:03:02.192334Z",
     "start_time": "2021-06-07T14:03:02.124444Z"
    }
   },
   "outputs": [],
   "source": [
    "# plt.title('Gaussian Blur')\n",
    "# plt.imshow(blur)\n",
    "# plt.show()\n",
    "# plt.title('Adaptive Threshold')\n",
    "# plt.imshow(thresh)\n",
    "# plt.show()"
   ]
  },
  {
   "cell_type": "code",
   "execution_count": 82,
   "metadata": {
    "ExecuteTime": {
     "end_time": "2021-06-07T14:03:02.310801Z",
     "start_time": "2021-06-07T14:03:02.196325Z"
    }
   },
   "outputs": [],
   "source": [
    "sudoku_contour = sudoku.copy()\n",
    "contours = cv2.findContours(thresh, cv2.RETR_EXTERNAL, cv2.CHAIN_APPROX_SIMPLE)\n",
    "sudoku_contour = cv2.drawContours(sudoku_contour, contours[1], -1, (0, 255, 0), 3)\n"
   ]
  },
  {
   "cell_type": "code",
   "execution_count": 83,
   "metadata": {
    "ExecuteTime": {
     "end_time": "2021-06-07T14:03:02.435161Z",
     "start_time": "2021-06-07T14:03:02.313763Z"
    }
   },
   "outputs": [],
   "source": [
    "# plt.title('Contours')\n",
    "# plt.imshow(sudoku_contour)\n",
    "# plt.show()"
   ]
  },
  {
   "cell_type": "code",
   "execution_count": 84,
   "metadata": {
    "ExecuteTime": {
     "end_time": "2021-06-07T14:03:02.563230Z",
     "start_time": "2021-06-07T14:03:02.438629Z"
    }
   },
   "outputs": [],
   "source": [
    "def bigContour(contours):\n",
    "    big = np.array([])\n",
    "    max_area = 0\n",
    "    for i in contours:\n",
    "        area = cv2.contourArea(i)\n",
    "        if area > 50: #if too small, will find noise\n",
    "            perimeter = cv2.arcLength(i, True)\n",
    "            approx = cv2.approxPolyDP(i, 0.02*perimeter, True)\n",
    "            if area > max_area and len(approx)==4: #checking of rect/square\n",
    "                big = approx\n",
    "                max_area = area\n",
    "    return big, max_area"
   ]
  },
  {
   "cell_type": "code",
   "execution_count": 85,
   "metadata": {
    "ExecuteTime": {
     "end_time": "2021-06-07T14:03:02.689871Z",
     "start_time": "2021-06-07T14:03:02.566222Z"
    }
   },
   "outputs": [],
   "source": [
    "# order of the 4 points should be the same always. reorder() ensures this\n",
    "def reorder(points):\n",
    "    points = points.reshape((4,2))\n",
    "    points_new = np.zeros((4,1,2), dtype=np.int32)\n",
    "    add = points.sum(1)\n",
    "    points_new[0] = points[np.argmin(add)]\n",
    "    points_new[3] =  points[np.argmax(add)]\n",
    "    diff = np.diff(points, axis=1)\n",
    "    points_new[1] = points[np.argmin(diff)]\n",
    "    points_new[2] = points[np.argmax(diff)]\n",
    "    return points_new"
   ]
  },
  {
   "cell_type": "code",
   "execution_count": 86,
   "metadata": {
    "ExecuteTime": {
     "end_time": "2021-06-07T14:03:02.841527Z",
     "start_time": "2021-06-07T14:03:02.692863Z"
    }
   },
   "outputs": [],
   "source": [
    "sudoku_big_contour = sudoku.copy()\n",
    "big, max_area = bigContour(contours[1])\n",
    "if big.size!=0:\n",
    "    big = reorder(big)\n",
    "    sudoku_big_contour = cv2.drawContours(sudoku_big_contour, big, -1, (255,255,0), 20) #draw the biggest contour\n",
    "    # preapres points for warp\n",
    "    pts1 = np.float32(big) \n",
    "    pts2 = np.float32([[0,0], [252,0], [0,252], [252, 252]])\n",
    "    matrix = cv2.getPerspectiveTransform(pts1, pts2)\n",
    "    warped_sudoku = cv2.warpPerspective(sudoku, matrix, (252, 252))\n",
    "    warped_sudoku = cv2.cvtColor(warped_sudoku, cv2.COLOR_RGB2GRAY)"
   ]
  },
  {
   "cell_type": "code",
   "execution_count": 89,
   "metadata": {
    "ExecuteTime": {
     "end_time": "2021-06-07T14:03:23.987485Z",
     "start_time": "2021-06-07T14:03:23.981528Z"
    }
   },
   "outputs": [
    {
     "data": {
      "text/plain": [
       "array([[ 26,  18,   6, ...,   0,   4,  13],\n",
       "       [ 18,  59, 102, ..., 125, 109,  69],\n",
       "       [  6,  92, 176, ..., 219, 188, 110],\n",
       "       ...,\n",
       "       [  0, 106, 207, ..., 255, 219, 125],\n",
       "       [  7,  88, 169, ..., 207, 177, 104],\n",
       "       [ 18,  52,  88, ..., 106,  93,  59]], dtype=uint8)"
      ]
     },
     "execution_count": 89,
     "metadata": {},
     "output_type": "execute_result"
    }
   ],
   "source": [
    "warped_sudoku"
   ]
  },
  {
   "cell_type": "code",
   "execution_count": 61,
   "metadata": {
    "ExecuteTime": {
     "end_time": "2021-06-07T13:57:42.984002Z",
     "start_time": "2021-06-07T13:57:42.846317Z"
    }
   },
   "outputs": [],
   "source": [
    "# plt.title('Big Contour')\n",
    "# plt.imshow(sudoku_big_contour)\n",
    "# plt.title('Warped')\n",
    "# plt.show()\n",
    "# plt.imshow(warped_sudoku)\n",
    "# plt.show()"
   ]
  },
  {
   "cell_type": "code",
   "execution_count": 62,
   "metadata": {
    "ExecuteTime": {
     "end_time": "2021-06-07T13:57:43.124049Z",
     "start_time": "2021-06-07T13:57:42.992977Z"
    }
   },
   "outputs": [],
   "source": [
    "def split_boxes(image):\n",
    "    rows = np.vsplit(image, 9)\n",
    "    boxes = []\n",
    "    for r in rows:\n",
    "        cols = np.hsplit(r, 9)\n",
    "        for box in cols:\n",
    "            boxes.append(box)\n",
    "    return boxes"
   ]
  },
  {
   "cell_type": "code",
   "execution_count": 76,
   "metadata": {
    "ExecuteTime": {
     "end_time": "2021-06-07T14:02:26.953293Z",
     "start_time": "2021-06-07T14:02:26.948310Z"
    },
    "scrolled": true
   },
   "outputs": [],
   "source": [
    "# detected = sudoku.copy()\n"
   ]
  },
  {
   "cell_type": "code",
   "execution_count": 77,
   "metadata": {
    "ExecuteTime": {
     "end_time": "2021-06-07T14:02:27.512238Z",
     "start_time": "2021-06-07T14:02:27.506259Z"
    }
   },
   "outputs": [
    {
     "data": {
      "text/plain": [
       "array([[ 26,  18,   6, ...,   0,   4,  13],\n",
       "       [ 18,  59, 102, ..., 125, 109,  69],\n",
       "       [  6,  92, 176, ..., 219, 188, 110],\n",
       "       ...,\n",
       "       [  0, 106, 207, ..., 255, 219, 125],\n",
       "       [  7,  88, 169, ..., 207, 177, 104],\n",
       "       [ 18,  52,  88, ..., 106,  93,  59]], dtype=uint8)"
      ]
     },
     "execution_count": 77,
     "metadata": {},
     "output_type": "execute_result"
    }
   ],
   "source": [
    "warped_sudoku"
   ]
  },
  {
   "cell_type": "code",
   "execution_count": 90,
   "metadata": {
    "ExecuteTime": {
     "end_time": "2021-06-07T14:04:23.111955Z",
     "start_time": "2021-06-07T14:04:23.076050Z"
    }
   },
   "outputs": [],
   "source": [
    "for i,img in enumerate(warped_sudoku):\n",
    "    mean = np.mean(img)\n",
    "    std = np.std(img)\n",
    "    warped_sudoku[i] = (img-mean)/std\n",
    "      "
   ]
  },
  {
   "cell_type": "code",
   "execution_count": 91,
   "metadata": {
    "ExecuteTime": {
     "end_time": "2021-06-07T14:04:23.510150Z",
     "start_time": "2021-06-07T14:04:23.503303Z"
    }
   },
   "outputs": [
    {
     "data": {
      "text/plain": [
       "array([[  8,   5,   1, ...,   0,   1,   3],\n",
       "       [249, 252, 255, ...,   0,   0, 253],\n",
       "       [249, 252, 255, ...,   0,   0, 253],\n",
       "       ...,\n",
       "       [249, 252, 255, ...,   0,   0, 253],\n",
       "       [249, 252, 255, ...,   0,   0, 253],\n",
       "       [249, 252, 255, ...,   0,   0, 253]], dtype=uint8)"
      ]
     },
     "execution_count": 91,
     "metadata": {},
     "output_type": "execute_result"
    }
   ],
   "source": [
    "(warped_sudoku)"
   ]
  },
  {
   "cell_type": "code",
   "execution_count": 92,
   "metadata": {
    "ExecuteTime": {
     "end_time": "2021-06-07T14:04:24.279190Z",
     "start_time": "2021-06-07T14:04:24.265228Z"
    }
   },
   "outputs": [],
   "source": [
    "boxes = split_boxes(warped_sudoku)\n",
    "for i in range(len(boxes)):\n",
    "    for j in range(len(boxes[i])):\n",
    "        boxes[i][j][0]=0\n",
    "        boxes[i][j][-1]=0"
   ]
  },
  {
   "cell_type": "code",
   "execution_count": 93,
   "metadata": {
    "ExecuteTime": {
     "end_time": "2021-06-07T14:04:24.755915Z",
     "start_time": "2021-06-07T14:04:24.745948Z"
    }
   },
   "outputs": [],
   "source": [
    "nums = np.array([1 if np.sum(boxes[i].flatten())/(255*81)>0.5 else 0 for i in range(len(boxes))])"
   ]
  },
  {
   "cell_type": "code",
   "execution_count": 94,
   "metadata": {
    "ExecuteTime": {
     "end_time": "2021-06-07T14:04:26.686851Z",
     "start_time": "2021-06-07T14:04:26.680908Z"
    }
   },
   "outputs": [
    {
     "data": {
      "text/plain": [
       "array([1, 0, 0, 0, 1, 0, 0, 0, 1, 1, 1, 0, 0, 1, 1, 0, 0, 1, 0, 1, 1, 0,\n",
       "       0, 1, 1, 0, 0, 0, 0, 0, 1, 1, 0, 0, 0, 0, 0, 1, 1, 0, 0, 0, 0, 0,\n",
       "       0, 0, 0, 0, 1, 1, 0, 0, 0, 0, 0, 1, 1, 0, 0, 1, 1, 0, 0, 1, 1, 0,\n",
       "       0, 1, 1, 0, 0, 1, 1, 0, 0, 0, 1, 0, 0, 0, 1])"
      ]
     },
     "execution_count": 94,
     "metadata": {},
     "output_type": "execute_result"
    }
   ],
   "source": [
    "nums"
   ]
  },
  {
   "cell_type": "code",
   "execution_count": 21,
   "metadata": {
    "ExecuteTime": {
     "end_time": "2021-06-06T17:50:31.693188Z",
     "start_time": "2021-06-06T17:50:31.573613Z"
    }
   },
   "outputs": [
    {
     "data": {
      "text/plain": [
       "0.07412248850157346"
      ]
     },
     "execution_count": 21,
     "metadata": {},
     "output_type": "execute_result"
    }
   ],
   "source": [
    "np.sum(boxes[1].flatten())/(255*81)"
   ]
  },
  {
   "cell_type": "code",
   "execution_count": 22,
   "metadata": {
    "ExecuteTime": {
     "end_time": "2021-06-06T17:50:32.886474Z",
     "start_time": "2021-06-06T17:50:31.697537Z"
    },
    "scrolled": false
   },
   "outputs": [
    {
     "data": {
      "image/png": "[encoded data removed]",
      "text/plain": [
       "<matplotlib.figure.Figure at 0x1ad5d287320>"
      ]
     },
     "metadata": {
      "needs_background": "light"
     },
     "output_type": "display_data"
    },
    {
     "data": {
      "image/png": "[encoded data removed]",
      "text/plain": [
       "<matplotlib.figure.Figure at 0x1ad5d95b470>"
      ]
     },
     "metadata": {
      "needs_background": "light"
     },
     "output_type": "display_data"
    }
   ],
   "source": [
    "plt.title('Sample')\n",
    "plt.imshow(warped_sudoku)\n",
    "plt.show()\n",
    "plt.title('Box')\n",
    "plt.imshow(boxes[0])\n",
    "plt.show()"
   ]
  },
  {
   "cell_type": "code",
   "execution_count": 95,
   "metadata": {
    "ExecuteTime": {
     "end_time": "2021-06-07T14:06:23.045002Z",
     "start_time": "2021-06-07T14:06:23.038047Z"
    }
   },
   "outputs": [
    {
     "data": {
      "text/plain": [
       "(81, 28, 28)"
      ]
     },
     "execution_count": 95,
     "metadata": {},
     "output_type": "execute_result"
    }
   ],
   "source": [
    "np.shape(boxes)"
   ]
  },
  {
   "cell_type": "code",
   "execution_count": 24,
   "metadata": {
    "ExecuteTime": {
     "end_time": "2021-06-06T17:50:52.668571Z",
     "start_time": "2021-06-06T17:50:32.921381Z"
    }
   },
   "outputs": [
    {
     "name": "stderr",
     "output_type": "stream",
     "text": [
      "C:\\Users\\Admin\\Anaconda3\\lib\\site-packages\\tensorflow\\python\\framework\\dtypes.py:517: FutureWarning: Passing (type, 1) or '1type' as a synonym of type is deprecated; in a future version of numpy, it will be understood as (type, (1,)) / '(1,)type'.\n",
      "  _np_qint8 = np.dtype([(\"qint8\", np.int8, 1)])\n",
      "C:\\Users\\Admin\\Anaconda3\\lib\\site-packages\\tensorflow\\python\\framework\\dtypes.py:518: FutureWarning: Passing (type, 1) or '1type' as a synonym of type is deprecated; in a future version of numpy, it will be understood as (type, (1,)) / '(1,)type'.\n",
      "  _np_quint8 = np.dtype([(\"quint8\", np.uint8, 1)])\n",
      "C:\\Users\\Admin\\Anaconda3\\lib\\site-packages\\tensorflow\\python\\framework\\dtypes.py:519: FutureWarning: Passing (type, 1) or '1type' as a synonym of type is deprecated; in a future version of numpy, it will be understood as (type, (1,)) / '(1,)type'.\n",
      "  _np_qint16 = np.dtype([(\"qint16\", np.int16, 1)])\n",
      "C:\\Users\\Admin\\Anaconda3\\lib\\site-packages\\tensorflow\\python\\framework\\dtypes.py:520: FutureWarning: Passing (type, 1) or '1type' as a synonym of type is deprecated; in a future version of numpy, it will be understood as (type, (1,)) / '(1,)type'.\n",
      "  _np_quint16 = np.dtype([(\"quint16\", np.uint16, 1)])\n",
      "C:\\Users\\Admin\\Anaconda3\\lib\\site-packages\\tensorflow\\python\\framework\\dtypes.py:521: FutureWarning: Passing (type, 1) or '1type' as a synonym of type is deprecated; in a future version of numpy, it will be understood as (type, (1,)) / '(1,)type'.\n",
      "  _np_qint32 = np.dtype([(\"qint32\", np.int32, 1)])\n",
      "C:\\Users\\Admin\\Anaconda3\\lib\\site-packages\\tensorflow\\python\\framework\\dtypes.py:526: FutureWarning: Passing (type, 1) or '1type' as a synonym of type is deprecated; in a future version of numpy, it will be understood as (type, (1,)) / '(1,)type'.\n",
      "  np_resource = np.dtype([(\"resource\", np.ubyte, 1)])\n",
      "C:\\Users\\Admin\\Anaconda3\\lib\\site-packages\\h5py\\__init__.py:36: FutureWarning: Conversion of the second argument of issubdtype from `float` to `np.floating` is deprecated. In future, it will be treated as `np.float64 == np.dtype(float).type`.\n",
      "  from ._conv import register_converters as _register_converters\n",
      "Using TensorFlow backend.\n"
     ]
    }
   ],
   "source": [
    "from tensorflow import keras\n",
    "from keras.models import load_model\n",
    "model = load_model('model.h5')\n",
    "boxes = np.reshape(boxes, (-1,28,28,1))\n",
    "predicted_numbers = model.predict_classes(boxes)"
   ]
  },
  {
   "cell_type": "code",
   "execution_count": 25,
   "metadata": {
    "ExecuteTime": {
     "end_time": "2021-06-06T17:50:52.929498Z",
     "start_time": "2021-06-06T17:50:52.672562Z"
    },
    "scrolled": false
   },
   "outputs": [
    {
     "name": "stdout",
     "output_type": "stream",
     "text": [
      "[[9 0 0 0 1 0 0 0 2]\n",
      " [4 1 0 0 6 3 0 0 9]\n",
      " [0 3 2 0 0 4 6 0 0]\n",
      " [0 0 0 3 4 0 0 0 0]\n",
      " [0 2 8 0 0 0 0 0 0]\n",
      " [0 0 0 5 2 0 0 0 0]\n",
      " [0 8 1 0 0 5 3 0 0]\n",
      " [2 7 0 0 3 1 0 0 5]\n",
      " [5 0 0 0 8 0 0 0 4]]\n"
     ]
    },
    {
     "data": {
      "image/png": "[encoded data removed]",
      "text/plain": [
       "<matplotlib.figure.Figure at 0x1ad642155c0>"
      ]
     },
     "metadata": {
      "needs_background": "light"
     },
     "output_type": "display_data"
    }
   ],
   "source": [
    "print(np.reshape(predicted_numbers*np.array(nums),(9,9)))\n",
    "plt.show()\n",
    "plt.imshow(sudoku)\n",
    "plt.show()"
   ]
  },
  {
   "cell_type": "code",
   "execution_count": null,
   "metadata": {
    "ExecuteTime": {
     "end_time": "2021-06-03T23:10:10.808567Z",
     "start_time": "2021-06-03T23:10:10.722796Z"
    }
   },
   "outputs": [],
   "source": []
  },
  {
   "cell_type": "code",
   "execution_count": null,
   "metadata": {},
   "outputs": [],
   "source": []
  }
 ],
 "metadata": {
  "kernelspec": {
   "display_name": "Python 3",
   "language": "python",
   "name": "python3"
  },
  "language_info": {
   "codemirror_mode": {
    "name": "ipython",
    "version": 3
   },
   "file_extension": ".py",
   "mimetype": "text/x-python",
   "name": "python",
   "nbconvert_exporter": "python",
   "pygments_lexer": "ipython3",
   "version": "3.6.4"
  }
 },
 "nbformat": 4,
 "nbformat_minor": 2
}
