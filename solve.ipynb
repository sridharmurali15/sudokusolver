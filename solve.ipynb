{
 "cells": [
  {
   "cell_type": "code",
   "execution_count": 58,
   "metadata": {
    "ExecuteTime": {
     "end_time": "2021-06-04T18:46:31.931280Z",
     "start_time": "2021-06-04T18:46:26.502901Z"
    }
   },
   "outputs": [],
   "source": [
    "import numpy as np"
   ]
  },
  {
   "cell_type": "code",
   "execution_count": 1,
   "metadata": {
    "ExecuteTime": {
     "end_time": "2021-06-04T18:18:25.762221Z",
     "start_time": "2021-06-04T18:18:25.749250Z"
    }
   },
   "outputs": [],
   "source": [
    "# search the array to find an empty box\n",
    "# empty box is identified as 0 in the grid\n",
    "\n",
    "def find_empty_box(arr, loc):\n",
    "    for row in range(9):\n",
    "        for col in range(9):\n",
    "            if arr[row][col] == 0:\n",
    "                loc[0] = row\n",
    "                loc[1] = col\n",
    "                return True\n",
    "    return False"
   ]
  },
  {
   "cell_type": "code",
   "execution_count": 21,
   "metadata": {
    "ExecuteTime": {
     "end_time": "2021-06-04T18:23:47.208448Z",
     "start_time": "2021-06-04T18:23:47.202463Z"
    }
   },
   "outputs": [],
   "source": [
    "# check if the number already exists in row\n",
    "\n",
    "def num_in_row(arr, row, num):\n",
    "    if num in arr[row]:\n",
    "        return True\n",
    "    return False"
   ]
  },
  {
   "cell_type": "code",
   "execution_count": 22,
   "metadata": {
    "ExecuteTime": {
     "end_time": "2021-06-04T18:23:47.925847Z",
     "start_time": "2021-06-04T18:23:47.917868Z"
    }
   },
   "outputs": [],
   "source": [
    "# check if the number already exists in column\n",
    "\n",
    "def num_in_col(arr, col, num):\n",
    "    for i in range(9):\n",
    "        if(arr[i][col] == num):\n",
    "            return True\n",
    "    return False"
   ]
  },
  {
   "cell_type": "code",
   "execution_count": 23,
   "metadata": {
    "ExecuteTime": {
     "end_time": "2021-06-04T18:23:48.399109Z",
     "start_time": "2021-06-04T18:23:48.390135Z"
    }
   },
   "outputs": [],
   "source": [
    "# check if the number exists in the 3x3 sub-array\n",
    "\n",
    "def num_in_box(arr, row, col, num):\n",
    "    for i in range(3):\n",
    "        for j in range(3):\n",
    "            if arr[row+i][col+j] == num:\n",
    "                return True\n",
    "    return False"
   ]
  },
  {
   "cell_type": "code",
   "execution_count": 24,
   "metadata": {
    "ExecuteTime": {
     "end_time": "2021-06-04T18:23:48.807217Z",
     "start_time": "2021-06-04T18:23:48.800238Z"
    }
   },
   "outputs": [],
   "source": [
    "# call function to validate all rules\n",
    "\n",
    "def check(arr, row, col, num):\n",
    "    return not num_in_row(arr, row, num) and not num_in_col(arr, col, num) and not num_in_box(arr, row-row%3, col-col%3, num)"
   ]
  },
  {
   "cell_type": "code",
   "execution_count": 25,
   "metadata": {
    "ExecuteTime": {
     "end_time": "2021-06-04T18:23:49.434752Z",
     "start_time": "2021-06-04T18:23:49.401364Z"
    }
   },
   "outputs": [],
   "source": [
    "def sudoku_solver(arr):\n",
    "    \n",
    "    # initialize loc variable which travels the grid\n",
    "    loc = [0,0]\n",
    "    \n",
    "    # check if loc represents an empty box\n",
    "    if(not find_empty_box(arr, loc)):\n",
    "        return True\n",
    "     \n",
    "    # Assigning list values to row and col that we got from the above Function\n",
    "    row = loc[0]\n",
    "    col = loc[1]\n",
    "     \n",
    "    # consider digits 1 to 9\n",
    "    for num in range(1, 10):\n",
    "        if(check(arr,row, col, num)):\n",
    "             \n",
    "            # tentatively assign num to box\n",
    "            arr[row][col]= num\n",
    " \n",
    "            # recursively call the sudoku_solver() to check if it satisfies the conditions with new number added.\n",
    "            # if all the boxes are filled recursively and the conditions are satisifed, we break from the loop and return True\n",
    "            if(sudoku_solver(arr)):\n",
    "                return True\n",
    " \n",
    "            # else, we reassign the tentative num back to 0 and try again\n",
    "            arr[row][col] = 0\n",
    "             \n",
    "    # there is no solution for the given sudoku problem     \n",
    "    return False"
   ]
  },
  {
   "cell_type": "code",
   "execution_count": 59,
   "metadata": {
    "ExecuteTime": {
     "end_time": "2021-06-04T18:46:31.992238Z",
     "start_time": "2021-06-04T18:46:31.934384Z"
    }
   },
   "outputs": [
    {
     "name": "stdout",
     "output_type": "stream",
     "text": [
      "[[3 1 6 5 7 8 4 9 2]\n",
      " [5 2 9 1 3 4 7 6 8]\n",
      " [4 8 7 6 2 9 5 3 1]\n",
      " [2 6 3 4 1 5 9 8 7]\n",
      " [9 7 4 8 6 3 1 2 5]\n",
      " [8 5 1 7 9 2 6 4 3]\n",
      " [1 3 8 9 4 7 2 5 6]\n",
      " [6 9 2 3 5 1 8 7 4]\n",
      " [7 4 5 2 8 6 3 1 9]]\n"
     ]
    }
   ],
   "source": [
    "grid =[[0 for x in range(9)]for y in range(9)]\n",
    "\n",
    "# assigning values to the grid\n",
    "grid =[[3, 0, 6, 5, 0, 8, 4, 0, 0],\n",
    "      [5, 2, 0, 0, 0, 0, 0, 0, 0],\n",
    "      [0, 8, 7, 0, 0, 0, 0, 3, 1],\n",
    "      [0, 0, 3, 0, 1, 0, 0, 8, 0],\n",
    "      [9, 0, 0, 8, 6, 3, 0, 0, 5],\n",
    "      [0, 5, 0, 0, 9, 0, 6, 0, 0],\n",
    "      [1, 3, 0, 0, 0, 0, 2, 5, 0],\n",
    "      [0, 0, 0, 0, 0, 0, 0, 7, 4],\n",
    "      [0, 0, 5, 2, 0, 6, 3, 0, 0]]\n",
    "\n",
    "# if success print the grid\n",
    "if(sudoku_solver(grid)):\n",
    "    print(np.array(grid))\n",
    "else:\n",
    "    print (\"No solution exists\")"
   ]
  },
  {
   "cell_type": "code",
   "execution_count": null,
   "metadata": {
    "ExecuteTime": {
     "end_time": "2021-06-04T18:45:52.038046Z",
     "start_time": "2021-06-04T18:45:52.029069Z"
    }
   },
   "outputs": [],
   "source": []
  }
 ],
 "metadata": {
  "kernelspec": {
   "display_name": "Python 3",
   "language": "python",
   "name": "python3"
  },
  "language_info": {
   "codemirror_mode": {
    "name": "ipython",
    "version": 3
   },
   "file_extension": ".py",
   "mimetype": "text/x-python",
   "name": "python",
   "nbconvert_exporter": "python",
   "pygments_lexer": "ipython3",
   "version": "3.6.4"
  }
 },
 "nbformat": 4,
 "nbformat_minor": 2
}
